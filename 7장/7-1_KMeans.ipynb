{
 "metadata": {
  "language_info": {
   "codemirror_mode": {
    "name": "ipython",
    "version": 3
   },
   "file_extension": ".py",
   "mimetype": "text/x-python",
   "name": "python",
   "nbconvert_exporter": "python",
   "pygments_lexer": "ipython3",
   "version": "3.9.5"
  },
  "orig_nbformat": 4,
  "kernelspec": {
   "name": "python3",
   "display_name": "Python 3.9.5 64-bit ('ML': conda)"
  },
  "interpreter": {
   "hash": "f735f31ad45f84686abf63e808c98b2849498e2a905243d09475dfae760c9065"
  }
 },
 "nbformat": 4,
 "nbformat_minor": 2,
 "cells": [
  {
   "source": [
    "### KMeans 예제 - iris"
   ],
   "cell_type": "markdown",
   "metadata": {}
  },
  {
   "cell_type": "code",
   "execution_count": 22,
   "metadata": {},
   "outputs": [],
   "source": [
    "from sklearn.preprocessing import scale\n",
    "from sklearn.datasets import load_iris\n",
    "from sklearn.cluster import KMeans \n",
    "import matplotlib.pyplot as plt\n",
    "import numpy as numpy\n",
    "import pandas as pd \n",
    "%matplotlib inline"
   ]
  },
  {
   "cell_type": "code",
   "execution_count": 9,
   "metadata": {},
   "outputs": [
    {
     "output_type": "execute_result",
     "data": {
      "text/plain": [
       "     sepal_length  sepal_width  petal_length  petal_width\n",
       "0             5.1          3.5           1.4          0.2\n",
       "1             4.9          3.0           1.4          0.2\n",
       "2             4.7          3.2           1.3          0.2\n",
       "3             4.6          3.1           1.5          0.2\n",
       "4             5.0          3.6           1.4          0.2\n",
       "..            ...          ...           ...          ...\n",
       "145           6.7          3.0           5.2          2.3\n",
       "146           6.3          2.5           5.0          1.9\n",
       "147           6.5          3.0           5.2          2.0\n",
       "148           6.2          3.4           5.4          2.3\n",
       "149           5.9          3.0           5.1          1.8\n",
       "\n",
       "[150 rows x 4 columns]"
      ],
      "text/html": "<div>\n<style scoped>\n    .dataframe tbody tr th:only-of-type {\n        vertical-align: middle;\n    }\n\n    .dataframe tbody tr th {\n        vertical-align: top;\n    }\n\n    .dataframe thead th {\n        text-align: right;\n    }\n</style>\n<table border=\"1\" class=\"dataframe\">\n  <thead>\n    <tr style=\"text-align: right;\">\n      <th></th>\n      <th>sepal_length</th>\n      <th>sepal_width</th>\n      <th>petal_length</th>\n      <th>petal_width</th>\n    </tr>\n  </thead>\n  <tbody>\n    <tr>\n      <th>0</th>\n      <td>5.1</td>\n      <td>3.5</td>\n      <td>1.4</td>\n      <td>0.2</td>\n    </tr>\n    <tr>\n      <th>1</th>\n      <td>4.9</td>\n      <td>3.0</td>\n      <td>1.4</td>\n      <td>0.2</td>\n    </tr>\n    <tr>\n      <th>2</th>\n      <td>4.7</td>\n      <td>3.2</td>\n      <td>1.3</td>\n      <td>0.2</td>\n    </tr>\n    <tr>\n      <th>3</th>\n      <td>4.6</td>\n      <td>3.1</td>\n      <td>1.5</td>\n      <td>0.2</td>\n    </tr>\n    <tr>\n      <th>4</th>\n      <td>5.0</td>\n      <td>3.6</td>\n      <td>1.4</td>\n      <td>0.2</td>\n    </tr>\n    <tr>\n      <th>...</th>\n      <td>...</td>\n      <td>...</td>\n      <td>...</td>\n      <td>...</td>\n    </tr>\n    <tr>\n      <th>145</th>\n      <td>6.7</td>\n      <td>3.0</td>\n      <td>5.2</td>\n      <td>2.3</td>\n    </tr>\n    <tr>\n      <th>146</th>\n      <td>6.3</td>\n      <td>2.5</td>\n      <td>5.0</td>\n      <td>1.9</td>\n    </tr>\n    <tr>\n      <th>147</th>\n      <td>6.5</td>\n      <td>3.0</td>\n      <td>5.2</td>\n      <td>2.0</td>\n    </tr>\n    <tr>\n      <th>148</th>\n      <td>6.2</td>\n      <td>3.4</td>\n      <td>5.4</td>\n      <td>2.3</td>\n    </tr>\n    <tr>\n      <th>149</th>\n      <td>5.9</td>\n      <td>3.0</td>\n      <td>5.1</td>\n      <td>1.8</td>\n    </tr>\n  </tbody>\n</table>\n<p>150 rows × 4 columns</p>\n</div>"
     },
     "metadata": {},
     "execution_count": 9
    }
   ],
   "source": [
    "iris=load_iris()\n",
    "irisDF=pd.DataFrame(data=iris.data, columns=['sepal_length', 'sepal_width', 'petal_length', 'petal_width'])\n",
    "irisDF"
   ]
  },
  {
   "cell_type": "code",
   "execution_count": 10,
   "metadata": {},
   "outputs": [
    {
     "output_type": "execute_result",
     "data": {
      "text/plain": [
       "KMeans(n_clusters=3, random_state=0)"
      ]
     },
     "metadata": {},
     "execution_count": 10
    }
   ],
   "source": [
    "kmeans=KMeans(n_clusters=3, init='k-means++', max_iter=300, random_state=0) #3개로 군집화 \n",
    "kmeans.fit(irisDF)"
   ]
  },
  {
   "cell_type": "code",
   "execution_count": 13,
   "metadata": {},
   "outputs": [
    {
     "output_type": "execute_result",
     "data": {
      "text/plain": [
       "array([1, 1, 1, 1, 1, 1, 1, 1, 1, 1, 1, 1, 1, 1, 1, 1, 1, 1, 1, 1, 1, 1,\n",
       "       1, 1, 1, 1, 1, 1, 1, 1, 1, 1, 1, 1, 1, 1, 1, 1, 1, 1, 1, 1, 1, 1,\n",
       "       1, 1, 1, 1, 1, 1, 0, 0, 2, 0, 0, 0, 0, 0, 0, 0, 0, 0, 0, 0, 0, 0,\n",
       "       0, 0, 0, 0, 0, 0, 0, 0, 0, 0, 0, 2, 0, 0, 0, 0, 0, 0, 0, 0, 0, 0,\n",
       "       0, 0, 0, 0, 0, 0, 0, 0, 0, 0, 0, 0, 2, 0, 2, 2, 2, 2, 0, 2, 2, 2,\n",
       "       2, 2, 2, 0, 0, 2, 2, 2, 2, 0, 2, 0, 2, 0, 2, 2, 0, 0, 2, 2, 2, 2,\n",
       "       2, 0, 2, 2, 2, 2, 0, 2, 2, 2, 0, 2, 2, 2, 0, 2, 2, 0], dtype=int32)"
      ]
     },
     "metadata": {},
     "execution_count": 13
    }
   ],
   "source": [
    "kmeans.labels_"
   ]
  },
  {
   "cell_type": "code",
   "execution_count": 15,
   "metadata": {},
   "outputs": [
    {
     "output_type": "execute_result",
     "data": {
      "text/plain": [
       "     sepal_length  sepal_width  petal_length  petal_width  target  cluster\n",
       "0             5.1          3.5           1.4          0.2       0        1\n",
       "1             4.9          3.0           1.4          0.2       0        1\n",
       "2             4.7          3.2           1.3          0.2       0        1\n",
       "3             4.6          3.1           1.5          0.2       0        1\n",
       "4             5.0          3.6           1.4          0.2       0        1\n",
       "..            ...          ...           ...          ...     ...      ...\n",
       "145           6.7          3.0           5.2          2.3       2        2\n",
       "146           6.3          2.5           5.0          1.9       2        0\n",
       "147           6.5          3.0           5.2          2.0       2        2\n",
       "148           6.2          3.4           5.4          2.3       2        2\n",
       "149           5.9          3.0           5.1          1.8       2        0\n",
       "\n",
       "[150 rows x 6 columns]"
      ],
      "text/html": "<div>\n<style scoped>\n    .dataframe tbody tr th:only-of-type {\n        vertical-align: middle;\n    }\n\n    .dataframe tbody tr th {\n        vertical-align: top;\n    }\n\n    .dataframe thead th {\n        text-align: right;\n    }\n</style>\n<table border=\"1\" class=\"dataframe\">\n  <thead>\n    <tr style=\"text-align: right;\">\n      <th></th>\n      <th>sepal_length</th>\n      <th>sepal_width</th>\n      <th>petal_length</th>\n      <th>petal_width</th>\n      <th>target</th>\n      <th>cluster</th>\n    </tr>\n  </thead>\n  <tbody>\n    <tr>\n      <th>0</th>\n      <td>5.1</td>\n      <td>3.5</td>\n      <td>1.4</td>\n      <td>0.2</td>\n      <td>0</td>\n      <td>1</td>\n    </tr>\n    <tr>\n      <th>1</th>\n      <td>4.9</td>\n      <td>3.0</td>\n      <td>1.4</td>\n      <td>0.2</td>\n      <td>0</td>\n      <td>1</td>\n    </tr>\n    <tr>\n      <th>2</th>\n      <td>4.7</td>\n      <td>3.2</td>\n      <td>1.3</td>\n      <td>0.2</td>\n      <td>0</td>\n      <td>1</td>\n    </tr>\n    <tr>\n      <th>3</th>\n      <td>4.6</td>\n      <td>3.1</td>\n      <td>1.5</td>\n      <td>0.2</td>\n      <td>0</td>\n      <td>1</td>\n    </tr>\n    <tr>\n      <th>4</th>\n      <td>5.0</td>\n      <td>3.6</td>\n      <td>1.4</td>\n      <td>0.2</td>\n      <td>0</td>\n      <td>1</td>\n    </tr>\n    <tr>\n      <th>...</th>\n      <td>...</td>\n      <td>...</td>\n      <td>...</td>\n      <td>...</td>\n      <td>...</td>\n      <td>...</td>\n    </tr>\n    <tr>\n      <th>145</th>\n      <td>6.7</td>\n      <td>3.0</td>\n      <td>5.2</td>\n      <td>2.3</td>\n      <td>2</td>\n      <td>2</td>\n    </tr>\n    <tr>\n      <th>146</th>\n      <td>6.3</td>\n      <td>2.5</td>\n      <td>5.0</td>\n      <td>1.9</td>\n      <td>2</td>\n      <td>0</td>\n    </tr>\n    <tr>\n      <th>147</th>\n      <td>6.5</td>\n      <td>3.0</td>\n      <td>5.2</td>\n      <td>2.0</td>\n      <td>2</td>\n      <td>2</td>\n    </tr>\n    <tr>\n      <th>148</th>\n      <td>6.2</td>\n      <td>3.4</td>\n      <td>5.4</td>\n      <td>2.3</td>\n      <td>2</td>\n      <td>2</td>\n    </tr>\n    <tr>\n      <th>149</th>\n      <td>5.9</td>\n      <td>3.0</td>\n      <td>5.1</td>\n      <td>1.8</td>\n      <td>2</td>\n      <td>0</td>\n    </tr>\n  </tbody>\n</table>\n<p>150 rows × 6 columns</p>\n</div>"
     },
     "metadata": {},
     "execution_count": 15
    }
   ],
   "source": [
    "irisDF['target']=iris.target\n",
    "irisDF['cluster']= kmeans.labels_ \n",
    "irisDF "
   ]
  },
  {
   "cell_type": "code",
   "execution_count": 16,
   "metadata": {},
   "outputs": [
    {
     "output_type": "execute_result",
     "data": {
      "text/plain": [
       "target  cluster\n",
       "0       1          50\n",
       "1       0          48\n",
       "        2           2\n",
       "2       0          14\n",
       "        2          36\n",
       "Name: sepal_length, dtype: int64"
      ]
     },
     "metadata": {},
     "execution_count": 16
    }
   ],
   "source": [
    "#실제 타겟값과 예측한 군집과 비교 \n",
    "irisDF.groupby(['target','cluster'])['sepal_length'].count()"
   ]
  },
  {
   "cell_type": "code",
   "execution_count": 18,
   "metadata": {},
   "outputs": [
    {
     "output_type": "execute_result",
     "data": {
      "text/plain": [
       "array([[-2.68412563,  0.31939725],\n",
       "       [-2.71414169, -0.17700123],\n",
       "       [-2.88899057, -0.14494943],\n",
       "       [-2.74534286, -0.31829898],\n",
       "       [-2.72871654,  0.32675451],\n",
       "       [-2.28085963,  0.74133045],\n",
       "       [-2.82053775, -0.08946138],\n",
       "       [-2.62614497,  0.16338496],\n",
       "       [-2.88638273, -0.57831175],\n",
       "       [-2.6727558 , -0.11377425],\n",
       "       [-2.50694709,  0.6450689 ],\n",
       "       [-2.61275523,  0.01472994],\n",
       "       [-2.78610927, -0.235112  ],\n",
       "       [-3.22380374, -0.51139459],\n",
       "       [-2.64475039,  1.17876464],\n",
       "       [-2.38603903,  1.33806233],\n",
       "       [-2.62352788,  0.81067951],\n",
       "       [-2.64829671,  0.31184914],\n",
       "       [-2.19982032,  0.87283904],\n",
       "       [-2.5879864 ,  0.51356031],\n",
       "       [-2.31025622,  0.39134594],\n",
       "       [-2.54370523,  0.43299606],\n",
       "       [-3.21593942,  0.13346807],\n",
       "       [-2.30273318,  0.09870885],\n",
       "       [-2.35575405, -0.03728186],\n",
       "       [-2.50666891, -0.14601688],\n",
       "       [-2.46882007,  0.13095149],\n",
       "       [-2.56231991,  0.36771886],\n",
       "       [-2.63953472,  0.31203998],\n",
       "       [-2.63198939, -0.19696122],\n",
       "       [-2.58739848, -0.20431849],\n",
       "       [-2.4099325 ,  0.41092426],\n",
       "       [-2.64886233,  0.81336382],\n",
       "       [-2.59873675,  1.09314576],\n",
       "       [-2.63692688, -0.12132235],\n",
       "       [-2.86624165,  0.06936447],\n",
       "       [-2.62523805,  0.59937002],\n",
       "       [-2.80068412,  0.26864374],\n",
       "       [-2.98050204, -0.48795834],\n",
       "       [-2.59000631,  0.22904384],\n",
       "       [-2.77010243,  0.26352753],\n",
       "       [-2.84936871, -0.94096057],\n",
       "       [-2.99740655, -0.34192606],\n",
       "       [-2.40561449,  0.18887143],\n",
       "       [-2.20948924,  0.43666314],\n",
       "       [-2.71445143, -0.2502082 ],\n",
       "       [-2.53814826,  0.50377114],\n",
       "       [-2.83946217, -0.22794557],\n",
       "       [-2.54308575,  0.57941002],\n",
       "       [-2.70335978,  0.10770608],\n",
       "       [ 1.28482569,  0.68516047],\n",
       "       [ 0.93248853,  0.31833364],\n",
       "       [ 1.46430232,  0.50426282],\n",
       "       [ 0.18331772, -0.82795901],\n",
       "       [ 1.08810326,  0.07459068],\n",
       "       [ 0.64166908, -0.41824687],\n",
       "       [ 1.09506066,  0.28346827],\n",
       "       [-0.74912267, -1.00489096],\n",
       "       [ 1.04413183,  0.2283619 ],\n",
       "       [-0.0087454 , -0.72308191],\n",
       "       [-0.50784088, -1.26597119],\n",
       "       [ 0.51169856, -0.10398124],\n",
       "       [ 0.26497651, -0.55003646],\n",
       "       [ 0.98493451, -0.12481785],\n",
       "       [-0.17392537, -0.25485421],\n",
       "       [ 0.92786078,  0.46717949],\n",
       "       [ 0.66028376, -0.35296967],\n",
       "       [ 0.23610499, -0.33361077],\n",
       "       [ 0.94473373, -0.54314555],\n",
       "       [ 0.04522698, -0.58383438],\n",
       "       [ 1.11628318, -0.08461685],\n",
       "       [ 0.35788842, -0.06892503],\n",
       "       [ 1.29818388, -0.32778731],\n",
       "       [ 0.92172892, -0.18273779],\n",
       "       [ 0.71485333,  0.14905594],\n",
       "       [ 0.90017437,  0.32850447],\n",
       "       [ 1.33202444,  0.24444088],\n",
       "       [ 1.55780216,  0.26749545],\n",
       "       [ 0.81329065, -0.1633503 ],\n",
       "       [-0.30558378, -0.36826219],\n",
       "       [-0.06812649, -0.70517213],\n",
       "       [-0.18962247, -0.68028676],\n",
       "       [ 0.13642871, -0.31403244],\n",
       "       [ 1.38002644, -0.42095429],\n",
       "       [ 0.58800644, -0.48428742],\n",
       "       [ 0.80685831,  0.19418231],\n",
       "       [ 1.22069088,  0.40761959],\n",
       "       [ 0.81509524, -0.37203706],\n",
       "       [ 0.24595768, -0.2685244 ],\n",
       "       [ 0.16641322, -0.68192672],\n",
       "       [ 0.46480029, -0.67071154],\n",
       "       [ 0.8908152 , -0.03446444],\n",
       "       [ 0.23054802, -0.40438585],\n",
       "       [-0.70453176, -1.01224823],\n",
       "       [ 0.35698149, -0.50491009],\n",
       "       [ 0.33193448, -0.21265468],\n",
       "       [ 0.37621565, -0.29321893],\n",
       "       [ 0.64257601,  0.01773819],\n",
       "       [-0.90646986, -0.75609337],\n",
       "       [ 0.29900084, -0.34889781],\n",
       "       [ 2.53119273, -0.00984911],\n",
       "       [ 1.41523588, -0.57491635],\n",
       "       [ 2.61667602,  0.34390315],\n",
       "       [ 1.97153105, -0.1797279 ],\n",
       "       [ 2.35000592, -0.04026095],\n",
       "       [ 3.39703874,  0.55083667],\n",
       "       [ 0.52123224, -1.19275873],\n",
       "       [ 2.93258707,  0.3555    ],\n",
       "       [ 2.32122882, -0.2438315 ],\n",
       "       [ 2.91675097,  0.78279195],\n",
       "       [ 1.66177415,  0.24222841],\n",
       "       [ 1.80340195, -0.21563762],\n",
       "       [ 2.1655918 ,  0.21627559],\n",
       "       [ 1.34616358, -0.77681835],\n",
       "       [ 1.58592822, -0.53964071],\n",
       "       [ 1.90445637,  0.11925069],\n",
       "       [ 1.94968906,  0.04194326],\n",
       "       [ 3.48705536,  1.17573933],\n",
       "       [ 3.79564542,  0.25732297],\n",
       "       [ 1.30079171, -0.76114964],\n",
       "       [ 2.42781791,  0.37819601],\n",
       "       [ 1.19900111, -0.60609153],\n",
       "       [ 3.49992004,  0.4606741 ],\n",
       "       [ 1.38876613, -0.20439933],\n",
       "       [ 2.2754305 ,  0.33499061],\n",
       "       [ 2.61409047,  0.56090136],\n",
       "       [ 1.25850816, -0.17970479],\n",
       "       [ 1.29113206, -0.11666865],\n",
       "       [ 2.12360872, -0.20972948],\n",
       "       [ 2.38800302,  0.4646398 ],\n",
       "       [ 2.84167278,  0.37526917],\n",
       "       [ 3.23067366,  1.37416509],\n",
       "       [ 2.15943764, -0.21727758],\n",
       "       [ 1.44416124, -0.14341341],\n",
       "       [ 1.78129481, -0.49990168],\n",
       "       [ 3.07649993,  0.68808568],\n",
       "       [ 2.14424331,  0.1400642 ],\n",
       "       [ 1.90509815,  0.04930053],\n",
       "       [ 1.16932634, -0.16499026],\n",
       "       [ 2.10761114,  0.37228787],\n",
       "       [ 2.31415471,  0.18365128],\n",
       "       [ 1.9222678 ,  0.40920347],\n",
       "       [ 1.41523588, -0.57491635],\n",
       "       [ 2.56301338,  0.2778626 ],\n",
       "       [ 2.41874618,  0.3047982 ],\n",
       "       [ 1.94410979,  0.1875323 ],\n",
       "       [ 1.52716661, -0.37531698],\n",
       "       [ 1.76434572,  0.07885885],\n",
       "       [ 1.90094161,  0.11662796],\n",
       "       [ 1.39018886, -0.28266094]])"
      ]
     },
     "metadata": {},
     "execution_count": 18
    }
   ],
   "source": [
    "#4차원 -> 2차원 차원 축소 후 시각화 \n",
    "from sklearn.decomposition import PCA\n",
    "\n",
    "pca= PCA(n_components=2) #2차원\n",
    "pca_transformed=pca.fit_transform(iris.data)\n",
    "pca_transformed"
   ]
  },
  {
   "cell_type": "code",
   "execution_count": 19,
   "metadata": {},
   "outputs": [
    {
     "output_type": "execute_result",
     "data": {
      "text/plain": [
       "     sepal_length  sepal_width  petal_length  petal_width  target  cluster  \\\n",
       "0             5.1          3.5           1.4          0.2       0        1   \n",
       "1             4.9          3.0           1.4          0.2       0        1   \n",
       "2             4.7          3.2           1.3          0.2       0        1   \n",
       "3             4.6          3.1           1.5          0.2       0        1   \n",
       "4             5.0          3.6           1.4          0.2       0        1   \n",
       "..            ...          ...           ...          ...     ...      ...   \n",
       "145           6.7          3.0           5.2          2.3       2        2   \n",
       "146           6.3          2.5           5.0          1.9       2        0   \n",
       "147           6.5          3.0           5.2          2.0       2        2   \n",
       "148           6.2          3.4           5.4          2.3       2        2   \n",
       "149           5.9          3.0           5.1          1.8       2        0   \n",
       "\n",
       "        pca_x     pca_y  \n",
       "0   -2.684126  0.319397  \n",
       "1   -2.714142 -0.177001  \n",
       "2   -2.888991 -0.144949  \n",
       "3   -2.745343 -0.318299  \n",
       "4   -2.728717  0.326755  \n",
       "..        ...       ...  \n",
       "145  1.944110  0.187532  \n",
       "146  1.527167 -0.375317  \n",
       "147  1.764346  0.078859  \n",
       "148  1.900942  0.116628  \n",
       "149  1.390189 -0.282661  \n",
       "\n",
       "[150 rows x 8 columns]"
      ],
      "text/html": "<div>\n<style scoped>\n    .dataframe tbody tr th:only-of-type {\n        vertical-align: middle;\n    }\n\n    .dataframe tbody tr th {\n        vertical-align: top;\n    }\n\n    .dataframe thead th {\n        text-align: right;\n    }\n</style>\n<table border=\"1\" class=\"dataframe\">\n  <thead>\n    <tr style=\"text-align: right;\">\n      <th></th>\n      <th>sepal_length</th>\n      <th>sepal_width</th>\n      <th>petal_length</th>\n      <th>petal_width</th>\n      <th>target</th>\n      <th>cluster</th>\n      <th>pca_x</th>\n      <th>pca_y</th>\n    </tr>\n  </thead>\n  <tbody>\n    <tr>\n      <th>0</th>\n      <td>5.1</td>\n      <td>3.5</td>\n      <td>1.4</td>\n      <td>0.2</td>\n      <td>0</td>\n      <td>1</td>\n      <td>-2.684126</td>\n      <td>0.319397</td>\n    </tr>\n    <tr>\n      <th>1</th>\n      <td>4.9</td>\n      <td>3.0</td>\n      <td>1.4</td>\n      <td>0.2</td>\n      <td>0</td>\n      <td>1</td>\n      <td>-2.714142</td>\n      <td>-0.177001</td>\n    </tr>\n    <tr>\n      <th>2</th>\n      <td>4.7</td>\n      <td>3.2</td>\n      <td>1.3</td>\n      <td>0.2</td>\n      <td>0</td>\n      <td>1</td>\n      <td>-2.888991</td>\n      <td>-0.144949</td>\n    </tr>\n    <tr>\n      <th>3</th>\n      <td>4.6</td>\n      <td>3.1</td>\n      <td>1.5</td>\n      <td>0.2</td>\n      <td>0</td>\n      <td>1</td>\n      <td>-2.745343</td>\n      <td>-0.318299</td>\n    </tr>\n    <tr>\n      <th>4</th>\n      <td>5.0</td>\n      <td>3.6</td>\n      <td>1.4</td>\n      <td>0.2</td>\n      <td>0</td>\n      <td>1</td>\n      <td>-2.728717</td>\n      <td>0.326755</td>\n    </tr>\n    <tr>\n      <th>...</th>\n      <td>...</td>\n      <td>...</td>\n      <td>...</td>\n      <td>...</td>\n      <td>...</td>\n      <td>...</td>\n      <td>...</td>\n      <td>...</td>\n    </tr>\n    <tr>\n      <th>145</th>\n      <td>6.7</td>\n      <td>3.0</td>\n      <td>5.2</td>\n      <td>2.3</td>\n      <td>2</td>\n      <td>2</td>\n      <td>1.944110</td>\n      <td>0.187532</td>\n    </tr>\n    <tr>\n      <th>146</th>\n      <td>6.3</td>\n      <td>2.5</td>\n      <td>5.0</td>\n      <td>1.9</td>\n      <td>2</td>\n      <td>0</td>\n      <td>1.527167</td>\n      <td>-0.375317</td>\n    </tr>\n    <tr>\n      <th>147</th>\n      <td>6.5</td>\n      <td>3.0</td>\n      <td>5.2</td>\n      <td>2.0</td>\n      <td>2</td>\n      <td>2</td>\n      <td>1.764346</td>\n      <td>0.078859</td>\n    </tr>\n    <tr>\n      <th>148</th>\n      <td>6.2</td>\n      <td>3.4</td>\n      <td>5.4</td>\n      <td>2.3</td>\n      <td>2</td>\n      <td>2</td>\n      <td>1.900942</td>\n      <td>0.116628</td>\n    </tr>\n    <tr>\n      <th>149</th>\n      <td>5.9</td>\n      <td>3.0</td>\n      <td>5.1</td>\n      <td>1.8</td>\n      <td>2</td>\n      <td>0</td>\n      <td>1.390189</td>\n      <td>-0.282661</td>\n    </tr>\n  </tbody>\n</table>\n<p>150 rows × 8 columns</p>\n</div>"
     },
     "metadata": {},
     "execution_count": 19
    }
   ],
   "source": [
    "irisDF['pca_x']=pca_transformed[:, 0] #첫번째 열\n",
    "irisDF['pca_y']=pca_transformed[:, 1] #두번째 열\n",
    "irisDF"
   ]
  },
  {
   "cell_type": "code",
   "execution_count": 20,
   "metadata": {},
   "outputs": [
    {
     "output_type": "execute_result",
     "data": {
      "text/plain": [
       "     sepal_length  sepal_width  petal_length  petal_width  target  cluster  \\\n",
       "50            7.0          3.2           4.7          1.4       1        0   \n",
       "51            6.4          3.2           4.5          1.5       1        0   \n",
       "53            5.5          2.3           4.0          1.3       1        0   \n",
       "54            6.5          2.8           4.6          1.5       1        0   \n",
       "55            5.7          2.8           4.5          1.3       1        0   \n",
       "..            ...          ...           ...          ...     ...      ...   \n",
       "133           6.3          2.8           5.1          1.5       2        0   \n",
       "138           6.0          3.0           4.8          1.8       2        0   \n",
       "142           5.8          2.7           5.1          1.9       2        0   \n",
       "146           6.3          2.5           5.0          1.9       2        0   \n",
       "149           5.9          3.0           5.1          1.8       2        0   \n",
       "\n",
       "        pca_x     pca_y  \n",
       "50   1.284826  0.685160  \n",
       "51   0.932489  0.318334  \n",
       "53   0.183318 -0.827959  \n",
       "54   1.088103  0.074591  \n",
       "55   0.641669 -0.418247  \n",
       "..        ...       ...  \n",
       "133  1.444161 -0.143413  \n",
       "138  1.169326 -0.164990  \n",
       "142  1.415236 -0.574916  \n",
       "146  1.527167 -0.375317  \n",
       "149  1.390189 -0.282661  \n",
       "\n",
       "[62 rows x 8 columns]"
      ],
      "text/html": "<div>\n<style scoped>\n    .dataframe tbody tr th:only-of-type {\n        vertical-align: middle;\n    }\n\n    .dataframe tbody tr th {\n        vertical-align: top;\n    }\n\n    .dataframe thead th {\n        text-align: right;\n    }\n</style>\n<table border=\"1\" class=\"dataframe\">\n  <thead>\n    <tr style=\"text-align: right;\">\n      <th></th>\n      <th>sepal_length</th>\n      <th>sepal_width</th>\n      <th>petal_length</th>\n      <th>petal_width</th>\n      <th>target</th>\n      <th>cluster</th>\n      <th>pca_x</th>\n      <th>pca_y</th>\n    </tr>\n  </thead>\n  <tbody>\n    <tr>\n      <th>50</th>\n      <td>7.0</td>\n      <td>3.2</td>\n      <td>4.7</td>\n      <td>1.4</td>\n      <td>1</td>\n      <td>0</td>\n      <td>1.284826</td>\n      <td>0.685160</td>\n    </tr>\n    <tr>\n      <th>51</th>\n      <td>6.4</td>\n      <td>3.2</td>\n      <td>4.5</td>\n      <td>1.5</td>\n      <td>1</td>\n      <td>0</td>\n      <td>0.932489</td>\n      <td>0.318334</td>\n    </tr>\n    <tr>\n      <th>53</th>\n      <td>5.5</td>\n      <td>2.3</td>\n      <td>4.0</td>\n      <td>1.3</td>\n      <td>1</td>\n      <td>0</td>\n      <td>0.183318</td>\n      <td>-0.827959</td>\n    </tr>\n    <tr>\n      <th>54</th>\n      <td>6.5</td>\n      <td>2.8</td>\n      <td>4.6</td>\n      <td>1.5</td>\n      <td>1</td>\n      <td>0</td>\n      <td>1.088103</td>\n      <td>0.074591</td>\n    </tr>\n    <tr>\n      <th>55</th>\n      <td>5.7</td>\n      <td>2.8</td>\n      <td>4.5</td>\n      <td>1.3</td>\n      <td>1</td>\n      <td>0</td>\n      <td>0.641669</td>\n      <td>-0.418247</td>\n    </tr>\n    <tr>\n      <th>...</th>\n      <td>...</td>\n      <td>...</td>\n      <td>...</td>\n      <td>...</td>\n      <td>...</td>\n      <td>...</td>\n      <td>...</td>\n      <td>...</td>\n    </tr>\n    <tr>\n      <th>133</th>\n      <td>6.3</td>\n      <td>2.8</td>\n      <td>5.1</td>\n      <td>1.5</td>\n      <td>2</td>\n      <td>0</td>\n      <td>1.444161</td>\n      <td>-0.143413</td>\n    </tr>\n    <tr>\n      <th>138</th>\n      <td>6.0</td>\n      <td>3.0</td>\n      <td>4.8</td>\n      <td>1.8</td>\n      <td>2</td>\n      <td>0</td>\n      <td>1.169326</td>\n      <td>-0.164990</td>\n    </tr>\n    <tr>\n      <th>142</th>\n      <td>5.8</td>\n      <td>2.7</td>\n      <td>5.1</td>\n      <td>1.9</td>\n      <td>2</td>\n      <td>0</td>\n      <td>1.415236</td>\n      <td>-0.574916</td>\n    </tr>\n    <tr>\n      <th>146</th>\n      <td>6.3</td>\n      <td>2.5</td>\n      <td>5.0</td>\n      <td>1.9</td>\n      <td>2</td>\n      <td>0</td>\n      <td>1.527167</td>\n      <td>-0.375317</td>\n    </tr>\n    <tr>\n      <th>149</th>\n      <td>5.9</td>\n      <td>3.0</td>\n      <td>5.1</td>\n      <td>1.8</td>\n      <td>2</td>\n      <td>0</td>\n      <td>1.390189</td>\n      <td>-0.282661</td>\n    </tr>\n  </tbody>\n</table>\n<p>62 rows × 8 columns</p>\n</div>"
     },
     "metadata": {},
     "execution_count": 20
    }
   ],
   "source": [
    "irisDF[irisDF['cluster']==0].index "
   ]
  },
  {
   "cell_type": "code",
   "execution_count": 29,
   "metadata": {},
   "outputs": [
    {
     "output_type": "display_data",
     "data": {
      "text/plain": "<Figure size 720x576 with 1 Axes>",
      "image/svg+xml": "<?xml version=\"1.0\" encoding=\"utf-8\" standalone=\"no\"?>\n<!DOCTYPE svg PUBLIC \"-//W3C//DTD SVG 1.1//EN\"\n  \"http://www.w3.org/Graphics/SVG/1.1/DTD/svg11.dtd\">\n<svg height=\"494.754375pt\" version=\"1.1\" viewBox=\"0 0 617.360937 494.754375\" width=\"617.360937pt\" xmlns=\"http://www.w3.org/2000/svg\" xmlns:xlink=\"http://www.w3.org/1999/xlink\">\n <metadata>\n  <rdf:RDF xmlns:cc=\"http://creativecommons.org/ns#\" xmlns:dc=\"http://purl.org/dc/elements/1.1/\" xmlns:rdf=\"http://www.w3.org/1999/02/22-rdf-syntax-ns#\">\n   <cc:Work>\n    <dc:type rdf:resource=\"http://purl.org/dc/dcmitype/StillImage\"/>\n    <dc:date>2021-07-14T18:27:41.178974</dc:date>\n    <dc:format>image/svg+xml</dc:format>\n    <dc:creator>\n     <cc:Agent>\n      <dc:title>Matplotlib v3.4.2, https://matplotlib.org/</dc:title>\n     </cc:Agent>\n    </dc:creator>\n   </cc:Work>\n  </rdf:RDF>\n </metadata>\n <defs>\n  <style type=\"text/css\">*{stroke-linecap:butt;stroke-linejoin:round;}</style>\n </defs>\n <g id=\"figure_1\">\n  <g id=\"patch_1\">\n   <path d=\"M 0 494.754375 \nL 617.360937 494.754375 \nL 617.360937 0 \nL 0 0 \nz\n\" style=\"fill:none;\"/>\n  </g>\n  <g id=\"axes_1\">\n   <g id=\"patch_2\">\n    <path d=\"M 52.160938 457.198125 \nL 610.160938 457.198125 \nL 610.160938 22.318125 \nL 52.160938 22.318125 \nz\n\" style=\"fill:#ffffff;\"/>\n   </g>\n   <g id=\"PathCollection_1\">\n    <defs>\n     <path d=\"M 0 3 \nC 0.795609 3 1.55874 2.683901 2.12132 2.12132 \nC 2.683901 1.55874 3 0.795609 3 0 \nC 3 -0.795609 2.683901 -1.55874 2.12132 -2.12132 \nC 1.55874 -2.683901 0.795609 -3 0 -3 \nC -0.795609 -3 -1.55874 -2.683901 -2.12132 -2.12132 \nC -2.683901 -1.55874 -3 -0.795609 -3 0 \nC -3 0.795609 -2.683901 1.55874 -2.12132 2.12132 \nC -1.55874 2.683901 -0.795609 3 0 3 \nz\n\" id=\"m2600966d70\" style=\"stroke:#1f77b4;\"/>\n    </defs>\n    <g clip-path=\"url(#pe005b18971)\">\n     <use style=\"fill:#1f77b4;stroke:#1f77b4;\" x=\"403.348537\" xlink:href=\"#m2600966d70\" y=\"145.259937\"/>\n     <use style=\"fill:#1f77b4;stroke:#1f77b4;\" x=\"377.886279\" xlink:href=\"#m2600966d70\" y=\"200.190177\"/>\n     <use style=\"fill:#1f77b4;stroke:#1f77b4;\" x=\"323.746144\" xlink:href=\"#m2600966d70\" y=\"371.841009\"/>\n     <use style=\"fill:#1f77b4;stroke:#1f77b4;\" x=\"389.132048\" xlink:href=\"#m2600966d70\" y=\"236.689305\"/>\n     <use style=\"fill:#1f77b4;stroke:#1f77b4;\" x=\"356.869704\" xlink:href=\"#m2600966d70\" y=\"310.488937\"/>\n     <use style=\"fill:#1f77b4;stroke:#1f77b4;\" x=\"389.634837\" xlink:href=\"#m2600966d70\" y=\"205.411069\"/>\n     <use style=\"fill:#1f77b4;stroke:#1f77b4;\" x=\"256.361714\" xlink:href=\"#m2600966d70\" y=\"398.335567\"/>\n     <use style=\"fill:#1f77b4;stroke:#1f77b4;\" x=\"385.954376\" xlink:href=\"#m2600966d70\" y=\"213.662935\"/>\n     <use style=\"fill:#1f77b4;stroke:#1f77b4;\" x=\"309.866368\" xlink:href=\"#m2600966d70\" y=\"356.136257\"/>\n     <use style=\"fill:#1f77b4;stroke:#1f77b4;\" x=\"273.798363\" xlink:href=\"#m2600966d70\" y=\"437.430852\"/>\n     <use style=\"fill:#1f77b4;stroke:#1f77b4;\" x=\"347.477158\" xlink:href=\"#m2600966d70\" y=\"263.429438\"/>\n     <use style=\"fill:#1f77b4;stroke:#1f77b4;\" x=\"329.647359\" xlink:href=\"#m2600966d70\" y=\"330.223682\"/>\n     <use style=\"fill:#1f77b4;stroke:#1f77b4;\" x=\"381.676379\" xlink:href=\"#m2600966d70\" y=\"266.549603\"/>\n     <use style=\"fill:#1f77b4;stroke:#1f77b4;\" x=\"297.92935\" xlink:href=\"#m2600966d70\" y=\"286.021811\"/>\n     <use style=\"fill:#1f77b4;stroke:#1f77b4;\" x=\"377.551846\" xlink:href=\"#m2600966d70\" y=\"177.901353\"/>\n     <use style=\"fill:#1f77b4;stroke:#1f77b4;\" x=\"358.214927\" xlink:href=\"#m2600966d70\" y=\"300.714045\"/>\n     <use style=\"fill:#1f77b4;stroke:#1f77b4;\" x=\"327.560909\" xlink:href=\"#m2600966d70\" y=\"297.815159\"/>\n     <use style=\"fill:#1f77b4;stroke:#1f77b4;\" x=\"378.771199\" xlink:href=\"#m2600966d70\" y=\"329.191807\"/>\n     <use style=\"fill:#1f77b4;stroke:#1f77b4;\" x=\"313.766776\" xlink:href=\"#m2600966d70\" y=\"335.284728\"/>\n     <use style=\"fill:#1f77b4;stroke:#1f77b4;\" x=\"391.168519\" xlink:href=\"#m2600966d70\" y=\"260.529731\"/>\n     <use style=\"fill:#1f77b4;stroke:#1f77b4;\" x=\"336.3618\" xlink:href=\"#m2600966d70\" y=\"258.17997\"/>\n     <use style=\"fill:#1f77b4;stroke:#1f77b4;\" x=\"404.31389\" xlink:href=\"#m2600966d70\" y=\"296.94313\"/>\n     <use style=\"fill:#1f77b4;stroke:#1f77b4;\" x=\"377.108717\" xlink:href=\"#m2600966d70\" y=\"275.222786\"/>\n     <use style=\"fill:#1f77b4;stroke:#1f77b4;\" x=\"362.158491\" xlink:href=\"#m2600966d70\" y=\"225.538553\"/>\n     <use style=\"fill:#1f77b4;stroke:#1f77b4;\" x=\"375.55104\" xlink:href=\"#m2600966d70\" y=\"198.667152\"/>\n     <use style=\"fill:#1f77b4;stroke:#1f77b4;\" x=\"406.759437\" xlink:href=\"#m2600966d70\" y=\"211.2552\"/>\n     <use style=\"fill:#1f77b4;stroke:#1f77b4;\" x=\"369.272236\" xlink:href=\"#m2600966d70\" y=\"272.319619\"/>\n     <use style=\"fill:#1f77b4;stroke:#1f77b4;\" x=\"288.414825\" xlink:href=\"#m2600966d70\" y=\"303.004014\"/>\n     <use style=\"fill:#1f77b4;stroke:#1f77b4;\" x=\"305.57509\" xlink:href=\"#m2600966d70\" y=\"353.454369\"/>\n     <use style=\"fill:#1f77b4;stroke:#1f77b4;\" x=\"296.794971\" xlink:href=\"#m2600966d70\" y=\"349.727926\"/>\n     <use style=\"fill:#1f77b4;stroke:#1f77b4;\" x=\"320.357628\" xlink:href=\"#m2600966d70\" y=\"294.883416\"/>\n     <use style=\"fill:#1f77b4;stroke:#1f77b4;\" x=\"410.228385\" xlink:href=\"#m2600966d70\" y=\"310.894357\"/>\n     <use style=\"fill:#1f77b4;stroke:#1f77b4;\" x=\"352.99168\" xlink:href=\"#m2600966d70\" y=\"320.378135\"/>\n     <use style=\"fill:#1f77b4;stroke:#1f77b4;\" x=\"368.807392\" xlink:href=\"#m2600966d70\" y=\"218.781135\"/>\n     <use style=\"fill:#1f77b4;stroke:#1f77b4;\" x=\"398.713724\" xlink:href=\"#m2600966d70\" y=\"186.820111\"/>\n     <use style=\"fill:#1f77b4;stroke:#1f77b4;\" x=\"369.402648\" xlink:href=\"#m2600966d70\" y=\"303.569279\"/>\n     <use style=\"fill:#1f77b4;stroke:#1f77b4;\" x=\"328.27293\" xlink:href=\"#m2600966d70\" y=\"288.068844\"/>\n     <use style=\"fill:#1f77b4;stroke:#1f77b4;\" x=\"322.524511\" xlink:href=\"#m2600966d70\" y=\"349.973501\"/>\n     <use style=\"fill:#1f77b4;stroke:#1f77b4;\" x=\"344.087973\" xlink:href=\"#m2600966d70\" y=\"348.294092\"/>\n     <use style=\"fill:#1f77b4;stroke:#1f77b4;\" x=\"374.874683\" xlink:href=\"#m2600966d70\" y=\"253.019692\"/>\n     <use style=\"fill:#1f77b4;stroke:#1f77b4;\" x=\"327.159324\" xlink:href=\"#m2600966d70\" y=\"308.413327\"/>\n     <use style=\"fill:#1f77b4;stroke:#1f77b4;\" x=\"259.584154\" xlink:href=\"#m2600966d70\" y=\"399.437276\"/>\n     <use style=\"fill:#1f77b4;stroke:#1f77b4;\" x=\"336.29626\" xlink:href=\"#m2600966d70\" y=\"323.466263\"/>\n     <use style=\"fill:#1f77b4;stroke:#1f77b4;\" x=\"334.486193\" xlink:href=\"#m2600966d70\" y=\"279.702671\"/>\n     <use style=\"fill:#1f77b4;stroke:#1f77b4;\" x=\"337.686249\" xlink:href=\"#m2600966d70\" y=\"291.766711\"/>\n     <use style=\"fill:#1f77b4;stroke:#1f77b4;\" x=\"356.935245\" xlink:href=\"#m2600966d70\" y=\"245.202643\"/>\n     <use style=\"fill:#1f77b4;stroke:#1f77b4;\" x=\"244.990745\" xlink:href=\"#m2600966d70\" y=\"361.079536\"/>\n     <use style=\"fill:#1f77b4;stroke:#1f77b4;\" x=\"332.106187\" xlink:href=\"#m2600966d70\" y=\"300.104307\"/>\n     <use style=\"fill:#1f77b4;stroke:#1f77b4;\" x=\"412.772857\" xlink:href=\"#m2600966d70\" y=\"333.949303\"/>\n     <use style=\"fill:#1f77b4;stroke:#1f77b4;\" x=\"348.166126\" xlink:href=\"#m2600966d70\" y=\"426.467701\"/>\n     <use style=\"fill:#1f77b4;stroke:#1f77b4;\" x=\"407.781227\" xlink:href=\"#m2600966d70\" y=\"364.182984\"/>\n     <use style=\"fill:#1f77b4;stroke:#1f77b4;\" x=\"425.108237\" xlink:href=\"#m2600966d70\" y=\"328.666977\"/>\n     <use style=\"fill:#1f77b4;stroke:#1f77b4;\" x=\"404.50235\" xlink:href=\"#m2600966d70\" y=\"361.836684\"/>\n     <use style=\"fill:#1f77b4;stroke:#1f77b4;\" x=\"397.146274\" xlink:href=\"#m2600966d70\" y=\"338.61761\"/>\n     <use style=\"fill:#1f77b4;stroke:#1f77b4;\" x=\"410.859975\" xlink:href=\"#m2600966d70\" y=\"278.466478\"/>\n     <use style=\"fill:#1f77b4;stroke:#1f77b4;\" x=\"401.446655\" xlink:href=\"#m2600966d70\" y=\"274.768612\"/>\n     <use style=\"fill:#1f77b4;stroke:#1f77b4;\" x=\"403.804278\" xlink:href=\"#m2600966d70\" y=\"265.329306\"/>\n     <use style=\"fill:#1f77b4;stroke:#1f77b4;\" x=\"414.863199\" xlink:href=\"#m2600966d70\" y=\"269.334183\"/>\n     <use style=\"fill:#1f77b4;stroke:#1f77b4;\" x=\"395.001776\" xlink:href=\"#m2600966d70\" y=\"272.565194\"/>\n     <use style=\"fill:#1f77b4;stroke:#1f77b4;\" x=\"412.772857\" xlink:href=\"#m2600966d70\" y=\"333.949303\"/>\n     <use style=\"fill:#1f77b4;stroke:#1f77b4;\" x=\"420.861727\" xlink:href=\"#m2600966d70\" y=\"304.060429\"/>\n     <use style=\"fill:#1f77b4;stroke:#1f77b4;\" x=\"410.962791\" xlink:href=\"#m2600966d70\" y=\"290.185711\"/>\n    </g>\n   </g>\n   <g id=\"PathCollection_2\">\n    <defs>\n     <path d=\"M -3 3 \nL 3 3 \nL 3 -3 \nL -3 -3 \nz\n\" id=\"m26599daf87\" style=\"stroke:#ff7f0e;\"/>\n    </defs>\n    <g clip-path=\"url(#pe005b18971)\">\n     <use style=\"fill:#ff7f0e;stroke:#ff7f0e;\" x=\"116.525354\" xlink:href=\"#m26599daf87\" y=\"200.030908\"/>\n     <use style=\"fill:#ff7f0e;stroke:#ff7f0e;\" x=\"114.356191\" xlink:href=\"#m26599daf87\" y=\"274.363768\"/>\n     <use style=\"fill:#ff7f0e;stroke:#ff7f0e;\" x=\"101.720431\" xlink:href=\"#m26599daf87\" y=\"269.564192\"/>\n     <use style=\"fill:#ff7f0e;stroke:#ff7f0e;\" x=\"112.101384\" xlink:href=\"#m26599daf87\" y=\"295.522306\"/>\n     <use style=\"fill:#ff7f0e;stroke:#ff7f0e;\" x=\"113.302914\" xlink:href=\"#m26599daf87\" y=\"198.929199\"/>\n     <use style=\"fill:#ff7f0e;stroke:#ff7f0e;\" x=\"145.668073\" xlink:href=\"#m26599daf87\" y=\"136.848801\"/>\n     <use style=\"fill:#ff7f0e;stroke:#ff7f0e;\" x=\"106.667294\" xlink:href=\"#m26599daf87\" y=\"261.255172\"/>\n     <use style=\"fill:#ff7f0e;stroke:#ff7f0e;\" x=\"120.715427\" xlink:href=\"#m26599daf87\" y=\"223.392864\"/>\n     <use style=\"fill:#ff7f0e;stroke:#ff7f0e;\" x=\"101.908891\" xlink:href=\"#m26599daf87\" y=\"334.457746\"/>\n     <use style=\"fill:#ff7f0e;stroke:#ff7f0e;\" x=\"117.347014\" xlink:href=\"#m26599daf87\" y=\"264.895886\"/>\n     <use style=\"fill:#ff7f0e;stroke:#ff7f0e;\" x=\"129.329469\" xlink:href=\"#m26599daf87\" y=\"151.263423\"/>\n     <use style=\"fill:#ff7f0e;stroke:#ff7f0e;\" x=\"121.68306\" xlink:href=\"#m26599daf87\" y=\"245.653112\"/>\n     <use style=\"fill:#ff7f0e;stroke:#ff7f0e;\" x=\"109.155328\" xlink:href=\"#m26599daf87\" y=\"283.065527\"/>\n     <use style=\"fill:#ff7f0e;stroke:#ff7f0e;\" x=\"77.524574\" xlink:href=\"#m26599daf87\" y=\"324.43728\"/>\n     <use style=\"fill:#ff7f0e;stroke:#ff7f0e;\" x=\"119.370874\" xlink:href=\"#m26599daf87\" y=\"71.345508\"/>\n     <use style=\"fill:#ff7f0e;stroke:#ff7f0e;\" x=\"138.067101\" xlink:href=\"#m26599daf87\" y=\"47.491581\"/>\n     <use style=\"fill:#ff7f0e;stroke:#ff7f0e;\" x=\"120.904556\" xlink:href=\"#m26599daf87\" y=\"126.464171\"/>\n     <use style=\"fill:#ff7f0e;stroke:#ff7f0e;\" x=\"119.114593\" xlink:href=\"#m26599daf87\" y=\"201.161193\"/>\n     <use style=\"fill:#ff7f0e;stroke:#ff7f0e;\" x=\"151.52452\" xlink:href=\"#m26599daf87\" y=\"117.156134\"/>\n     <use style=\"fill:#ff7f0e;stroke:#ff7f0e;\" x=\"123.473022\" xlink:href=\"#m26599daf87\" y=\"170.956089\"/>\n     <use style=\"fill:#ff7f0e;stroke:#ff7f0e;\" x=\"143.543678\" xlink:href=\"#m26599daf87\" y=\"189.256999\"/>\n     <use style=\"fill:#ff7f0e;stroke:#ff7f0e;\" x=\"126.673078\" xlink:href=\"#m26599daf87\" y=\"183.020128\"/>\n     <use style=\"fill:#ff7f0e;stroke:#ff7f0e;\" x=\"78.092903\" xlink:href=\"#m26599daf87\" y=\"227.872749\"/>\n     <use style=\"fill:#ff7f0e;stroke:#ff7f0e;\" x=\"144.087343\" xlink:href=\"#m26599daf87\" y=\"233.077745\"/>\n     <use style=\"fill:#ff7f0e;stroke:#ff7f0e;\" x=\"140.255698\" xlink:href=\"#m26599daf87\" y=\"253.441584\"/>\n     <use style=\"fill:#ff7f0e;stroke:#ff7f0e;\" x=\"129.349573\" xlink:href=\"#m26599daf87\" y=\"269.724037\"/>\n     <use style=\"fill:#ff7f0e;stroke:#ff7f0e;\" x=\"132.084785\" xlink:href=\"#m26599daf87\" y=\"228.249593\"/>\n     <use style=\"fill:#ff7f0e;stroke:#ff7f0e;\" x=\"125.327856\" xlink:href=\"#m26599daf87\" y=\"192.79502\"/>\n     <use style=\"fill:#ff7f0e;stroke:#ff7f0e;\" x=\"119.747793\" xlink:href=\"#m26599daf87\" y=\"201.132617\"/>\n     <use style=\"fill:#ff7f0e;stroke:#ff7f0e;\" x=\"120.29307\" xlink:href=\"#m26599daf87\" y=\"277.352664\"/>\n     <use style=\"fill:#ff7f0e;stroke:#ff7f0e;\" x=\"123.51551\" xlink:href=\"#m26599daf87\" y=\"278.454373\"/>\n     <use style=\"fill:#ff7f0e;stroke:#ff7f0e;\" x=\"136.340398\" xlink:href=\"#m26599daf87\" y=\"186.325255\"/>\n     <use style=\"fill:#ff7f0e;stroke:#ff7f0e;\" x=\"119.073717\" xlink:href=\"#m26599daf87\" y=\"126.062211\"/>\n     <use style=\"fill:#ff7f0e;stroke:#ff7f0e;\" x=\"122.69613\" xlink:href=\"#m26599daf87\" y=\"84.16645\"/>\n     <use style=\"fill:#ff7f0e;stroke:#ff7f0e;\" x=\"119.936253\" xlink:href=\"#m26599daf87\" y=\"266.026171\"/>\n     <use style=\"fill:#ff7f0e;stroke:#ff7f0e;\" x=\"103.364422\" xlink:href=\"#m26599daf87\" y=\"237.4719\"/>\n     <use style=\"fill:#ff7f0e;stroke:#ff7f0e;\" x=\"120.780967\" xlink:href=\"#m26599daf87\" y=\"158.106571\"/>\n     <use style=\"fill:#ff7f0e;stroke:#ff7f0e;\" x=\"108.102051\" xlink:href=\"#m26599daf87\" y=\"207.630958\"/>\n     <use style=\"fill:#ff7f0e;stroke:#ff7f0e;\" x=\"95.107195\" xlink:href=\"#m26599daf87\" y=\"320.927835\"/>\n     <use style=\"fill:#ff7f0e;stroke:#ff7f0e;\" x=\"123.32705\" xlink:href=\"#m26599daf87\" y=\"213.560819\"/>\n     <use style=\"fill:#ff7f0e;stroke:#ff7f0e;\" x=\"110.31209\" xlink:href=\"#m26599daf87\" y=\"208.397081\"/>\n     <use style=\"fill:#ff7f0e;stroke:#ff7f0e;\" x=\"104.583774\" xlink:href=\"#m26599daf87\" y=\"388.762353\"/>\n     <use style=\"fill:#ff7f0e;stroke:#ff7f0e;\" x=\"93.885562\" xlink:href=\"#m26599daf87\" y=\"299.060327\"/>\n     <use style=\"fill:#ff7f0e;stroke:#ff7f0e;\" x=\"136.652447\" xlink:href=\"#m26599daf87\" y=\"219.57641\"/>\n     <use style=\"fill:#ff7f0e;stroke:#ff7f0e;\" x=\"150.825779\" xlink:href=\"#m26599daf87\" y=\"182.471004\"/>\n     <use style=\"fill:#ff7f0e;stroke:#ff7f0e;\" x=\"114.333807\" xlink:href=\"#m26599daf87\" y=\"285.326098\"/>\n     <use style=\"fill:#ff7f0e;stroke:#ff7f0e;\" x=\"127.074662\" xlink:href=\"#m26599daf87\" y=\"172.421961\"/>\n     <use style=\"fill:#ff7f0e;stroke:#ff7f0e;\" x=\"105.299688\" xlink:href=\"#m26599daf87\" y=\"281.992395\"/>\n     <use style=\"fill:#ff7f0e;stroke:#ff7f0e;\" x=\"126.717846\" xlink:href=\"#m26599daf87\" y=\"161.095467\"/>\n     <use style=\"fill:#ff7f0e;stroke:#ff7f0e;\" x=\"115.135364\" xlink:href=\"#m26599daf87\" y=\"231.730461\"/>\n    </g>\n   </g>\n   <g id=\"PathCollection_3\">\n    <defs>\n     <path d=\"M 0 -3 \nL -3 3 \nL 3 3 \nz\n\" id=\"mb0fdcaf202\" style=\"stroke:#2ca02c;\"/>\n    </defs>\n    <g clip-path=\"url(#pe005b18971)\">\n     <use style=\"fill:#2ca02c;stroke:#2ca02c;\" x=\"416.318729\" xlink:href=\"#mb0fdcaf202\" y=\"172.348336\"/>\n     <use style=\"fill:#2ca02c;stroke:#2ca02c;\" x=\"423.075657\" xlink:href=\"#mb0fdcaf202\" y=\"207.802908\"/>\n     <use style=\"fill:#2ca02c;stroke:#2ca02c;\" x=\"493.419424\" xlink:href=\"#mb0fdcaf202\" y=\"249.333685\"/>\n     <use style=\"fill:#2ca02c;stroke:#2ca02c;\" x=\"499.597022\" xlink:href=\"#mb0fdcaf202\" y=\"196.361287\"/>\n     <use style=\"fill:#2ca02c;stroke:#2ca02c;\" x=\"452.974497\" xlink:href=\"#mb0fdcaf202\" y=\"274.772072\"/>\n     <use style=\"fill:#2ca02c;stroke:#2ca02c;\" x=\"480.325643\" xlink:href=\"#mb0fdcaf202\" y=\"253.887685\"/>\n     <use style=\"fill:#2ca02c;stroke:#2ca02c;\" x=\"555.991294\" xlink:href=\"#mb0fdcaf202\" y=\"165.374165\"/>\n     <use style=\"fill:#2ca02c;stroke:#2ca02c;\" x=\"522.426885\" xlink:href=\"#mb0fdcaf202\" y=\"194.624725\"/>\n     <use style=\"fill:#2ca02c;stroke:#2ca02c;\" x=\"478.246016\" xlink:href=\"#mb0fdcaf202\" y=\"284.371223\"/>\n     <use style=\"fill:#2ca02c;stroke:#2ca02c;\" x=\"521.282462\" xlink:href=\"#mb0fdcaf202\" y=\"130.640176\"/>\n     <use style=\"fill:#2ca02c;stroke:#2ca02c;\" x=\"430.589375\" xlink:href=\"#mb0fdcaf202\" y=\"211.586504\"/>\n     <use style=\"fill:#2ca02c;stroke:#2ca02c;\" x=\"440.824355\" xlink:href=\"#mb0fdcaf202\" y=\"280.149348\"/>\n     <use style=\"fill:#2ca02c;stroke:#2ca02c;\" x=\"466.998635\" xlink:href=\"#mb0fdcaf202\" y=\"215.472793\"/>\n     <use style=\"fill:#2ca02c;stroke:#2ca02c;\" x=\"448.127229\" xlink:href=\"#mb0fdcaf202\" y=\"230.001721\"/>\n     <use style=\"fill:#2ca02c;stroke:#2ca02c;\" x=\"451.396048\" xlink:href=\"#mb0fdcaf202\" y=\"241.578071\"/>\n     <use style=\"fill:#2ca02c;stroke:#2ca02c;\" x=\"562.496503\" xlink:href=\"#mb0fdcaf202\" y=\"71.798531\"/>\n     <use style=\"fill:#2ca02c;stroke:#2ca02c;\" x=\"584.797301\" xlink:href=\"#mb0fdcaf202\" y=\"209.326179\"/>\n     <use style=\"fill:#2ca02c;stroke:#2ca02c;\" x=\"485.948862\" xlink:href=\"#mb0fdcaf202\" y=\"191.226126\"/>\n     <use style=\"fill:#2ca02c;stroke:#2ca02c;\" x=\"563.426191\" xlink:href=\"#mb0fdcaf202\" y=\"178.875499\"/>\n     <use style=\"fill:#2ca02c;stroke:#2ca02c;\" x=\"474.936321\" xlink:href=\"#mb0fdcaf202\" y=\"197.695891\"/>\n     <use style=\"fill:#2ca02c;stroke:#2ca02c;\" x=\"499.410174\" xlink:href=\"#mb0fdcaf202\" y=\"163.867035\"/>\n     <use style=\"fill:#2ca02c;stroke:#2ca02c;\" x=\"463.964655\" xlink:href=\"#mb0fdcaf202\" y=\"279.264638\"/>\n     <use style=\"fill:#2ca02c;stroke:#2ca02c;\" x=\"483.071569\" xlink:href=\"#mb0fdcaf202\" y=\"178.281657\"/>\n     <use style=\"fill:#2ca02c;stroke:#2ca02c;\" x=\"515.856805\" xlink:href=\"#mb0fdcaf202\" y=\"191.664404\"/>\n     <use style=\"fill:#2ca02c;stroke:#2ca02c;\" x=\"543.968632\" xlink:href=\"#mb0fdcaf202\" y=\"42.085398\"/>\n     <use style=\"fill:#2ca02c;stroke:#2ca02c;\" x=\"466.553894\" xlink:href=\"#mb0fdcaf202\" y=\"280.394923\"/>\n     <use style=\"fill:#2ca02c;stroke:#2ca02c;\" x=\"439.226744\" xlink:href=\"#mb0fdcaf202\" y=\"322.716282\"/>\n     <use style=\"fill:#2ca02c;stroke:#2ca02c;\" x=\"532.826999\" xlink:href=\"#mb0fdcaf202\" y=\"144.821903\"/>\n     <use style=\"fill:#2ca02c;stroke:#2ca02c;\" x=\"465.45585\" xlink:href=\"#mb0fdcaf202\" y=\"226.885016\"/>\n     <use style=\"fill:#2ca02c;stroke:#2ca02c;\" x=\"448.173608\" xlink:href=\"#mb0fdcaf202\" y=\"240.476362\"/>\n     <use style=\"fill:#2ca02c;stroke:#2ca02c;\" x=\"462.808562\" xlink:href=\"#mb0fdcaf202\" y=\"192.110836\"/>\n     <use style=\"fill:#2ca02c;stroke:#2ca02c;\" x=\"477.734793\" xlink:href=\"#mb0fdcaf202\" y=\"220.358098\"/>\n     <use style=\"fill:#2ca02c;stroke:#2ca02c;\" x=\"449.414402\" xlink:href=\"#mb0fdcaf202\" y=\"186.582935\"/>\n     <use style=\"fill:#2ca02c;stroke:#2ca02c;\" x=\"495.718998\" xlink:href=\"#mb0fdcaf202\" y=\"206.250486\"/>\n     <use style=\"fill:#2ca02c;stroke:#2ca02c;\" x=\"485.293278\" xlink:href=\"#mb0fdcaf202\" y=\"202.217033\"/>\n     <use style=\"fill:#2ca02c;stroke:#2ca02c;\" x=\"450.992852\" xlink:href=\"#mb0fdcaf202\" y=\"219.776936\"/>\n     <use style=\"fill:#2ca02c;stroke:#2ca02c;\" x=\"438.001888\" xlink:href=\"#mb0fdcaf202\" y=\"236.05017\"/>\n     <use style=\"fill:#2ca02c;stroke:#2ca02c;\" x=\"447.873228\" xlink:href=\"#mb0fdcaf202\" y=\"230.39446\"/>\n    </g>\n   </g>\n   <g id=\"matplotlib.axis_1\">\n    <g id=\"xtick_1\">\n     <g id=\"line2d_1\">\n      <defs>\n       <path d=\"M 0 0 \nL 0 3.5 \n\" id=\"mcfeb7056f9\" style=\"stroke:#000000;stroke-width:0.8;\"/>\n      </defs>\n      <g>\n       <use style=\"stroke:#000000;stroke-width:0.8;\" x=\"93.698141\" xlink:href=\"#mcfeb7056f9\" y=\"457.198125\"/>\n      </g>\n     </g>\n     <g id=\"text_1\">\n      <!-- −3 -->\n      <g transform=\"translate(86.327048 471.796562)scale(0.1 -0.1)\">\n       <defs>\n        <path d=\"M 678 2272 \nL 4684 2272 \nL 4684 1741 \nL 678 1741 \nL 678 2272 \nz\n\" id=\"DejaVuSans-2212\" transform=\"scale(0.015625)\"/>\n        <path d=\"M 2597 2516 \nQ 3050 2419 3304 2112 \nQ 3559 1806 3559 1356 \nQ 3559 666 3084 287 \nQ 2609 -91 1734 -91 \nQ 1441 -91 1130 -33 \nQ 819 25 488 141 \nL 488 750 \nQ 750 597 1062 519 \nQ 1375 441 1716 441 \nQ 2309 441 2620 675 \nQ 2931 909 2931 1356 \nQ 2931 1769 2642 2001 \nQ 2353 2234 1838 2234 \nL 1294 2234 \nL 1294 2753 \nL 1863 2753 \nQ 2328 2753 2575 2939 \nQ 2822 3125 2822 3475 \nQ 2822 3834 2567 4026 \nQ 2313 4219 1838 4219 \nQ 1578 4219 1281 4162 \nQ 984 4106 628 3988 \nL 628 4550 \nQ 988 4650 1302 4700 \nQ 1616 4750 1894 4750 \nQ 2613 4750 3031 4423 \nQ 3450 4097 3450 3541 \nQ 3450 3153 3228 2886 \nQ 3006 2619 2597 2516 \nz\n\" id=\"DejaVuSans-33\" transform=\"scale(0.015625)\"/>\n       </defs>\n       <use xlink:href=\"#DejaVuSans-2212\"/>\n       <use x=\"83.789062\" xlink:href=\"#DejaVuSans-33\"/>\n      </g>\n     </g>\n    </g>\n    <g id=\"xtick_2\">\n     <g id=\"line2d_2\">\n      <g>\n       <use style=\"stroke:#000000;stroke-width:0.8;\" x=\"165.964884\" xlink:href=\"#mcfeb7056f9\" y=\"457.198125\"/>\n      </g>\n     </g>\n     <g id=\"text_2\">\n      <!-- −2 -->\n      <g transform=\"translate(158.59379 471.796562)scale(0.1 -0.1)\">\n       <defs>\n        <path d=\"M 1228 531 \nL 3431 531 \nL 3431 0 \nL 469 0 \nL 469 531 \nQ 828 903 1448 1529 \nQ 2069 2156 2228 2338 \nQ 2531 2678 2651 2914 \nQ 2772 3150 2772 3378 \nQ 2772 3750 2511 3984 \nQ 2250 4219 1831 4219 \nQ 1534 4219 1204 4116 \nQ 875 4013 500 3803 \nL 500 4441 \nQ 881 4594 1212 4672 \nQ 1544 4750 1819 4750 \nQ 2544 4750 2975 4387 \nQ 3406 4025 3406 3419 \nQ 3406 3131 3298 2873 \nQ 3191 2616 2906 2266 \nQ 2828 2175 2409 1742 \nQ 1991 1309 1228 531 \nz\n\" id=\"DejaVuSans-32\" transform=\"scale(0.015625)\"/>\n       </defs>\n       <use xlink:href=\"#DejaVuSans-2212\"/>\n       <use x=\"83.789062\" xlink:href=\"#DejaVuSans-32\"/>\n      </g>\n     </g>\n    </g>\n    <g id=\"xtick_3\">\n     <g id=\"line2d_3\">\n      <g>\n       <use style=\"stroke:#000000;stroke-width:0.8;\" x=\"238.231627\" xlink:href=\"#mcfeb7056f9\" y=\"457.198125\"/>\n      </g>\n     </g>\n     <g id=\"text_3\">\n      <!-- −1 -->\n      <g transform=\"translate(230.860533 471.796562)scale(0.1 -0.1)\">\n       <defs>\n        <path d=\"M 794 531 \nL 1825 531 \nL 1825 4091 \nL 703 3866 \nL 703 4441 \nL 1819 4666 \nL 2450 4666 \nL 2450 531 \nL 3481 531 \nL 3481 0 \nL 794 0 \nL 794 531 \nz\n\" id=\"DejaVuSans-31\" transform=\"scale(0.015625)\"/>\n       </defs>\n       <use xlink:href=\"#DejaVuSans-2212\"/>\n       <use x=\"83.789062\" xlink:href=\"#DejaVuSans-31\"/>\n      </g>\n     </g>\n    </g>\n    <g id=\"xtick_4\">\n     <g id=\"line2d_4\">\n      <g>\n       <use style=\"stroke:#000000;stroke-width:0.8;\" x=\"310.49837\" xlink:href=\"#mcfeb7056f9\" y=\"457.198125\"/>\n      </g>\n     </g>\n     <g id=\"text_4\">\n      <!-- 0 -->\n      <g transform=\"translate(307.31712 471.796562)scale(0.1 -0.1)\">\n       <defs>\n        <path d=\"M 2034 4250 \nQ 1547 4250 1301 3770 \nQ 1056 3291 1056 2328 \nQ 1056 1369 1301 889 \nQ 1547 409 2034 409 \nQ 2525 409 2770 889 \nQ 3016 1369 3016 2328 \nQ 3016 3291 2770 3770 \nQ 2525 4250 2034 4250 \nz\nM 2034 4750 \nQ 2819 4750 3233 4129 \nQ 3647 3509 3647 2328 \nQ 3647 1150 3233 529 \nQ 2819 -91 2034 -91 \nQ 1250 -91 836 529 \nQ 422 1150 422 2328 \nQ 422 3509 836 4129 \nQ 1250 4750 2034 4750 \nz\n\" id=\"DejaVuSans-30\" transform=\"scale(0.015625)\"/>\n       </defs>\n       <use xlink:href=\"#DejaVuSans-30\"/>\n      </g>\n     </g>\n    </g>\n    <g id=\"xtick_5\">\n     <g id=\"line2d_5\">\n      <g>\n       <use style=\"stroke:#000000;stroke-width:0.8;\" x=\"382.765113\" xlink:href=\"#mcfeb7056f9\" y=\"457.198125\"/>\n      </g>\n     </g>\n     <g id=\"text_5\">\n      <!-- 1 -->\n      <g transform=\"translate(379.583863 471.796562)scale(0.1 -0.1)\">\n       <use xlink:href=\"#DejaVuSans-31\"/>\n      </g>\n     </g>\n    </g>\n    <g id=\"xtick_6\">\n     <g id=\"line2d_6\">\n      <g>\n       <use style=\"stroke:#000000;stroke-width:0.8;\" x=\"455.031855\" xlink:href=\"#mcfeb7056f9\" y=\"457.198125\"/>\n      </g>\n     </g>\n     <g id=\"text_6\">\n      <!-- 2 -->\n      <g transform=\"translate(451.850605 471.796562)scale(0.1 -0.1)\">\n       <use xlink:href=\"#DejaVuSans-32\"/>\n      </g>\n     </g>\n    </g>\n    <g id=\"xtick_7\">\n     <g id=\"line2d_7\">\n      <g>\n       <use style=\"stroke:#000000;stroke-width:0.8;\" x=\"527.298598\" xlink:href=\"#mcfeb7056f9\" y=\"457.198125\"/>\n      </g>\n     </g>\n     <g id=\"text_7\">\n      <!-- 3 -->\n      <g transform=\"translate(524.117348 471.796562)scale(0.1 -0.1)\">\n       <use xlink:href=\"#DejaVuSans-33\"/>\n      </g>\n     </g>\n    </g>\n    <g id=\"xtick_8\">\n     <g id=\"line2d_8\">\n      <g>\n       <use style=\"stroke:#000000;stroke-width:0.8;\" x=\"599.565341\" xlink:href=\"#mcfeb7056f9\" y=\"457.198125\"/>\n      </g>\n     </g>\n     <g id=\"text_8\">\n      <!-- 4 -->\n      <g transform=\"translate(596.384091 471.796562)scale(0.1 -0.1)\">\n       <defs>\n        <path d=\"M 2419 4116 \nL 825 1625 \nL 2419 1625 \nL 2419 4116 \nz\nM 2253 4666 \nL 3047 4666 \nL 3047 1625 \nL 3713 1625 \nL 3713 1100 \nL 3047 1100 \nL 3047 0 \nL 2419 0 \nL 2419 1100 \nL 313 1100 \nL 313 1709 \nL 2253 4666 \nz\n\" id=\"DejaVuSans-34\" transform=\"scale(0.015625)\"/>\n       </defs>\n       <use xlink:href=\"#DejaVuSans-34\"/>\n      </g>\n     </g>\n    </g>\n    <g id=\"text_9\">\n     <!-- PCA 1 -->\n     <g transform=\"translate(316.464063 485.474687)scale(0.1 -0.1)\">\n      <defs>\n       <path d=\"M 1259 4147 \nL 1259 2394 \nL 2053 2394 \nQ 2494 2394 2734 2622 \nQ 2975 2850 2975 3272 \nQ 2975 3691 2734 3919 \nQ 2494 4147 2053 4147 \nL 1259 4147 \nz\nM 628 4666 \nL 2053 4666 \nQ 2838 4666 3239 4311 \nQ 3641 3956 3641 3272 \nQ 3641 2581 3239 2228 \nQ 2838 1875 2053 1875 \nL 1259 1875 \nL 1259 0 \nL 628 0 \nL 628 4666 \nz\n\" id=\"DejaVuSans-50\" transform=\"scale(0.015625)\"/>\n       <path d=\"M 4122 4306 \nL 4122 3641 \nQ 3803 3938 3442 4084 \nQ 3081 4231 2675 4231 \nQ 1875 4231 1450 3742 \nQ 1025 3253 1025 2328 \nQ 1025 1406 1450 917 \nQ 1875 428 2675 428 \nQ 3081 428 3442 575 \nQ 3803 722 4122 1019 \nL 4122 359 \nQ 3791 134 3420 21 \nQ 3050 -91 2638 -91 \nQ 1578 -91 968 557 \nQ 359 1206 359 2328 \nQ 359 3453 968 4101 \nQ 1578 4750 2638 4750 \nQ 3056 4750 3426 4639 \nQ 3797 4528 4122 4306 \nz\n\" id=\"DejaVuSans-43\" transform=\"scale(0.015625)\"/>\n       <path d=\"M 2188 4044 \nL 1331 1722 \nL 3047 1722 \nL 2188 4044 \nz\nM 1831 4666 \nL 2547 4666 \nL 4325 0 \nL 3669 0 \nL 3244 1197 \nL 1141 1197 \nL 716 0 \nL 50 0 \nL 1831 4666 \nz\n\" id=\"DejaVuSans-41\" transform=\"scale(0.015625)\"/>\n       <path id=\"DejaVuSans-20\" transform=\"scale(0.015625)\"/>\n      </defs>\n      <use xlink:href=\"#DejaVuSans-50\"/>\n      <use x=\"60.302734\" xlink:href=\"#DejaVuSans-43\"/>\n      <use x=\"130.126953\" xlink:href=\"#DejaVuSans-41\"/>\n      <use x=\"198.535156\" xlink:href=\"#DejaVuSans-20\"/>\n      <use x=\"230.322266\" xlink:href=\"#DejaVuSans-31\"/>\n     </g>\n    </g>\n   </g>\n   <g id=\"matplotlib.axis_2\">\n    <g id=\"ytick_1\">\n     <g id=\"line2d_9\">\n      <defs>\n       <path d=\"M 0 0 \nL -3.5 0 \n\" id=\"m61abf6ec21\" style=\"stroke:#000000;stroke-width:0.8;\"/>\n      </defs>\n      <g>\n       <use style=\"stroke:#000000;stroke-width:0.8;\" x=\"52.160938\" xlink:href=\"#m61abf6ec21\" y=\"397.603173\"/>\n      </g>\n     </g>\n     <g id=\"text_10\">\n      <!-- −1.0 -->\n      <g transform=\"translate(20.878125 401.402392)scale(0.1 -0.1)\">\n       <defs>\n        <path d=\"M 684 794 \nL 1344 794 \nL 1344 0 \nL 684 0 \nL 684 794 \nz\n\" id=\"DejaVuSans-2e\" transform=\"scale(0.015625)\"/>\n       </defs>\n       <use xlink:href=\"#DejaVuSans-2212\"/>\n       <use x=\"83.789062\" xlink:href=\"#DejaVuSans-31\"/>\n       <use x=\"147.412109\" xlink:href=\"#DejaVuSans-2e\"/>\n       <use x=\"179.199219\" xlink:href=\"#DejaVuSans-30\"/>\n      </g>\n     </g>\n    </g>\n    <g id=\"ytick_2\">\n     <g id=\"line2d_10\">\n      <g>\n       <use style=\"stroke:#000000;stroke-width:0.8;\" x=\"52.160938\" xlink:href=\"#m61abf6ec21\" y=\"322.731005\"/>\n      </g>\n     </g>\n     <g id=\"text_11\">\n      <!-- −0.5 -->\n      <g transform=\"translate(20.878125 326.530223)scale(0.1 -0.1)\">\n       <defs>\n        <path d=\"M 691 4666 \nL 3169 4666 \nL 3169 4134 \nL 1269 4134 \nL 1269 2991 \nQ 1406 3038 1543 3061 \nQ 1681 3084 1819 3084 \nQ 2600 3084 3056 2656 \nQ 3513 2228 3513 1497 \nQ 3513 744 3044 326 \nQ 2575 -91 1722 -91 \nQ 1428 -91 1123 -41 \nQ 819 9 494 109 \nL 494 744 \nQ 775 591 1075 516 \nQ 1375 441 1709 441 \nQ 2250 441 2565 725 \nQ 2881 1009 2881 1497 \nQ 2881 1984 2565 2268 \nQ 2250 2553 1709 2553 \nQ 1456 2553 1204 2497 \nQ 953 2441 691 2322 \nL 691 4666 \nz\n\" id=\"DejaVuSans-35\" transform=\"scale(0.015625)\"/>\n       </defs>\n       <use xlink:href=\"#DejaVuSans-2212\"/>\n       <use x=\"83.789062\" xlink:href=\"#DejaVuSans-30\"/>\n       <use x=\"147.412109\" xlink:href=\"#DejaVuSans-2e\"/>\n       <use x=\"179.199219\" xlink:href=\"#DejaVuSans-35\"/>\n      </g>\n     </g>\n    </g>\n    <g id=\"ytick_3\">\n     <g id=\"line2d_11\">\n      <g>\n       <use style=\"stroke:#000000;stroke-width:0.8;\" x=\"52.160938\" xlink:href=\"#m61abf6ec21\" y=\"247.858837\"/>\n      </g>\n     </g>\n     <g id=\"text_12\">\n      <!-- 0.0 -->\n      <g transform=\"translate(29.257813 251.658055)scale(0.1 -0.1)\">\n       <use xlink:href=\"#DejaVuSans-30\"/>\n       <use x=\"63.623047\" xlink:href=\"#DejaVuSans-2e\"/>\n       <use x=\"95.410156\" xlink:href=\"#DejaVuSans-30\"/>\n      </g>\n     </g>\n    </g>\n    <g id=\"ytick_4\">\n     <g id=\"line2d_12\">\n      <g>\n       <use style=\"stroke:#000000;stroke-width:0.8;\" x=\"52.160938\" xlink:href=\"#m61abf6ec21\" y=\"172.986668\"/>\n      </g>\n     </g>\n     <g id=\"text_13\">\n      <!-- 0.5 -->\n      <g transform=\"translate(29.257813 176.785887)scale(0.1 -0.1)\">\n       <use xlink:href=\"#DejaVuSans-30\"/>\n       <use x=\"63.623047\" xlink:href=\"#DejaVuSans-2e\"/>\n       <use x=\"95.410156\" xlink:href=\"#DejaVuSans-35\"/>\n      </g>\n     </g>\n    </g>\n    <g id=\"ytick_5\">\n     <g id=\"line2d_13\">\n      <g>\n       <use style=\"stroke:#000000;stroke-width:0.8;\" x=\"52.160938\" xlink:href=\"#m61abf6ec21\" y=\"98.1145\"/>\n      </g>\n     </g>\n     <g id=\"text_14\">\n      <!-- 1.0 -->\n      <g transform=\"translate(29.257813 101.913719)scale(0.1 -0.1)\">\n       <use xlink:href=\"#DejaVuSans-31\"/>\n       <use x=\"63.623047\" xlink:href=\"#DejaVuSans-2e\"/>\n       <use x=\"95.410156\" xlink:href=\"#DejaVuSans-30\"/>\n      </g>\n     </g>\n    </g>\n    <g id=\"ytick_6\">\n     <g id=\"line2d_14\">\n      <g>\n       <use style=\"stroke:#000000;stroke-width:0.8;\" x=\"52.160938\" xlink:href=\"#m61abf6ec21\" y=\"23.242332\"/>\n      </g>\n     </g>\n     <g id=\"text_15\">\n      <!-- 1.5 -->\n      <g transform=\"translate(29.257813 27.041551)scale(0.1 -0.1)\">\n       <use xlink:href=\"#DejaVuSans-31\"/>\n       <use x=\"63.623047\" xlink:href=\"#DejaVuSans-2e\"/>\n       <use x=\"95.410156\" xlink:href=\"#DejaVuSans-35\"/>\n      </g>\n     </g>\n    </g>\n    <g id=\"text_16\">\n     <!-- PCA 2 -->\n     <g transform=\"translate(14.798438 254.455)rotate(-90)scale(0.1 -0.1)\">\n      <use xlink:href=\"#DejaVuSans-50\"/>\n      <use x=\"60.302734\" xlink:href=\"#DejaVuSans-43\"/>\n      <use x=\"130.126953\" xlink:href=\"#DejaVuSans-41\"/>\n      <use x=\"198.535156\" xlink:href=\"#DejaVuSans-20\"/>\n      <use x=\"230.322266\" xlink:href=\"#DejaVuSans-32\"/>\n     </g>\n    </g>\n   </g>\n   <g id=\"patch_3\">\n    <path d=\"M 52.160938 457.198125 \nL 52.160938 22.318125 \n\" style=\"fill:none;stroke:#000000;stroke-linecap:square;stroke-linejoin:miter;stroke-width:0.8;\"/>\n   </g>\n   <g id=\"patch_4\">\n    <path d=\"M 610.160938 457.198125 \nL 610.160938 22.318125 \n\" style=\"fill:none;stroke:#000000;stroke-linecap:square;stroke-linejoin:miter;stroke-width:0.8;\"/>\n   </g>\n   <g id=\"patch_5\">\n    <path d=\"M 52.160937 457.198125 \nL 610.160937 457.198125 \n\" style=\"fill:none;stroke:#000000;stroke-linecap:square;stroke-linejoin:miter;stroke-width:0.8;\"/>\n   </g>\n   <g id=\"patch_6\">\n    <path d=\"M 52.160937 22.318125 \nL 610.160937 22.318125 \n\" style=\"fill:none;stroke:#000000;stroke-linecap:square;stroke-linejoin:miter;stroke-width:0.8;\"/>\n   </g>\n   <g id=\"text_17\">\n    <!-- 3 Clusters by 2 PCA Components -->\n    <g transform=\"translate(232.338125 16.318125)scale(0.12 -0.12)\">\n     <defs>\n      <path d=\"M 603 4863 \nL 1178 4863 \nL 1178 0 \nL 603 0 \nL 603 4863 \nz\n\" id=\"DejaVuSans-6c\" transform=\"scale(0.015625)\"/>\n      <path d=\"M 544 1381 \nL 544 3500 \nL 1119 3500 \nL 1119 1403 \nQ 1119 906 1312 657 \nQ 1506 409 1894 409 \nQ 2359 409 2629 706 \nQ 2900 1003 2900 1516 \nL 2900 3500 \nL 3475 3500 \nL 3475 0 \nL 2900 0 \nL 2900 538 \nQ 2691 219 2414 64 \nQ 2138 -91 1772 -91 \nQ 1169 -91 856 284 \nQ 544 659 544 1381 \nz\nM 1991 3584 \nL 1991 3584 \nz\n\" id=\"DejaVuSans-75\" transform=\"scale(0.015625)\"/>\n      <path d=\"M 2834 3397 \nL 2834 2853 \nQ 2591 2978 2328 3040 \nQ 2066 3103 1784 3103 \nQ 1356 3103 1142 2972 \nQ 928 2841 928 2578 \nQ 928 2378 1081 2264 \nQ 1234 2150 1697 2047 \nL 1894 2003 \nQ 2506 1872 2764 1633 \nQ 3022 1394 3022 966 \nQ 3022 478 2636 193 \nQ 2250 -91 1575 -91 \nQ 1294 -91 989 -36 \nQ 684 19 347 128 \nL 347 722 \nQ 666 556 975 473 \nQ 1284 391 1588 391 \nQ 1994 391 2212 530 \nQ 2431 669 2431 922 \nQ 2431 1156 2273 1281 \nQ 2116 1406 1581 1522 \nL 1381 1569 \nQ 847 1681 609 1914 \nQ 372 2147 372 2553 \nQ 372 3047 722 3315 \nQ 1072 3584 1716 3584 \nQ 2034 3584 2315 3537 \nQ 2597 3491 2834 3397 \nz\n\" id=\"DejaVuSans-73\" transform=\"scale(0.015625)\"/>\n      <path d=\"M 1172 4494 \nL 1172 3500 \nL 2356 3500 \nL 2356 3053 \nL 1172 3053 \nL 1172 1153 \nQ 1172 725 1289 603 \nQ 1406 481 1766 481 \nL 2356 481 \nL 2356 0 \nL 1766 0 \nQ 1100 0 847 248 \nQ 594 497 594 1153 \nL 594 3053 \nL 172 3053 \nL 172 3500 \nL 594 3500 \nL 594 4494 \nL 1172 4494 \nz\n\" id=\"DejaVuSans-74\" transform=\"scale(0.015625)\"/>\n      <path d=\"M 3597 1894 \nL 3597 1613 \nL 953 1613 \nQ 991 1019 1311 708 \nQ 1631 397 2203 397 \nQ 2534 397 2845 478 \nQ 3156 559 3463 722 \nL 3463 178 \nQ 3153 47 2828 -22 \nQ 2503 -91 2169 -91 \nQ 1331 -91 842 396 \nQ 353 884 353 1716 \nQ 353 2575 817 3079 \nQ 1281 3584 2069 3584 \nQ 2775 3584 3186 3129 \nQ 3597 2675 3597 1894 \nz\nM 3022 2063 \nQ 3016 2534 2758 2815 \nQ 2500 3097 2075 3097 \nQ 1594 3097 1305 2825 \nQ 1016 2553 972 2059 \nL 3022 2063 \nz\n\" id=\"DejaVuSans-65\" transform=\"scale(0.015625)\"/>\n      <path d=\"M 2631 2963 \nQ 2534 3019 2420 3045 \nQ 2306 3072 2169 3072 \nQ 1681 3072 1420 2755 \nQ 1159 2438 1159 1844 \nL 1159 0 \nL 581 0 \nL 581 3500 \nL 1159 3500 \nL 1159 2956 \nQ 1341 3275 1631 3429 \nQ 1922 3584 2338 3584 \nQ 2397 3584 2469 3576 \nQ 2541 3569 2628 3553 \nL 2631 2963 \nz\n\" id=\"DejaVuSans-72\" transform=\"scale(0.015625)\"/>\n      <path d=\"M 3116 1747 \nQ 3116 2381 2855 2742 \nQ 2594 3103 2138 3103 \nQ 1681 3103 1420 2742 \nQ 1159 2381 1159 1747 \nQ 1159 1113 1420 752 \nQ 1681 391 2138 391 \nQ 2594 391 2855 752 \nQ 3116 1113 3116 1747 \nz\nM 1159 2969 \nQ 1341 3281 1617 3432 \nQ 1894 3584 2278 3584 \nQ 2916 3584 3314 3078 \nQ 3713 2572 3713 1747 \nQ 3713 922 3314 415 \nQ 2916 -91 2278 -91 \nQ 1894 -91 1617 61 \nQ 1341 213 1159 525 \nL 1159 0 \nL 581 0 \nL 581 4863 \nL 1159 4863 \nL 1159 2969 \nz\n\" id=\"DejaVuSans-62\" transform=\"scale(0.015625)\"/>\n      <path d=\"M 2059 -325 \nQ 1816 -950 1584 -1140 \nQ 1353 -1331 966 -1331 \nL 506 -1331 \nL 506 -850 \nL 844 -850 \nQ 1081 -850 1212 -737 \nQ 1344 -625 1503 -206 \nL 1606 56 \nL 191 3500 \nL 800 3500 \nL 1894 763 \nL 2988 3500 \nL 3597 3500 \nL 2059 -325 \nz\n\" id=\"DejaVuSans-79\" transform=\"scale(0.015625)\"/>\n      <path d=\"M 1959 3097 \nQ 1497 3097 1228 2736 \nQ 959 2375 959 1747 \nQ 959 1119 1226 758 \nQ 1494 397 1959 397 \nQ 2419 397 2687 759 \nQ 2956 1122 2956 1747 \nQ 2956 2369 2687 2733 \nQ 2419 3097 1959 3097 \nz\nM 1959 3584 \nQ 2709 3584 3137 3096 \nQ 3566 2609 3566 1747 \nQ 3566 888 3137 398 \nQ 2709 -91 1959 -91 \nQ 1206 -91 779 398 \nQ 353 888 353 1747 \nQ 353 2609 779 3096 \nQ 1206 3584 1959 3584 \nz\n\" id=\"DejaVuSans-6f\" transform=\"scale(0.015625)\"/>\n      <path d=\"M 3328 2828 \nQ 3544 3216 3844 3400 \nQ 4144 3584 4550 3584 \nQ 5097 3584 5394 3201 \nQ 5691 2819 5691 2113 \nL 5691 0 \nL 5113 0 \nL 5113 2094 \nQ 5113 2597 4934 2840 \nQ 4756 3084 4391 3084 \nQ 3944 3084 3684 2787 \nQ 3425 2491 3425 1978 \nL 3425 0 \nL 2847 0 \nL 2847 2094 \nQ 2847 2600 2669 2842 \nQ 2491 3084 2119 3084 \nQ 1678 3084 1418 2786 \nQ 1159 2488 1159 1978 \nL 1159 0 \nL 581 0 \nL 581 3500 \nL 1159 3500 \nL 1159 2956 \nQ 1356 3278 1631 3431 \nQ 1906 3584 2284 3584 \nQ 2666 3584 2933 3390 \nQ 3200 3197 3328 2828 \nz\n\" id=\"DejaVuSans-6d\" transform=\"scale(0.015625)\"/>\n      <path d=\"M 1159 525 \nL 1159 -1331 \nL 581 -1331 \nL 581 3500 \nL 1159 3500 \nL 1159 2969 \nQ 1341 3281 1617 3432 \nQ 1894 3584 2278 3584 \nQ 2916 3584 3314 3078 \nQ 3713 2572 3713 1747 \nQ 3713 922 3314 415 \nQ 2916 -91 2278 -91 \nQ 1894 -91 1617 61 \nQ 1341 213 1159 525 \nz\nM 3116 1747 \nQ 3116 2381 2855 2742 \nQ 2594 3103 2138 3103 \nQ 1681 3103 1420 2742 \nQ 1159 2381 1159 1747 \nQ 1159 1113 1420 752 \nQ 1681 391 2138 391 \nQ 2594 391 2855 752 \nQ 3116 1113 3116 1747 \nz\n\" id=\"DejaVuSans-70\" transform=\"scale(0.015625)\"/>\n      <path d=\"M 3513 2113 \nL 3513 0 \nL 2938 0 \nL 2938 2094 \nQ 2938 2591 2744 2837 \nQ 2550 3084 2163 3084 \nQ 1697 3084 1428 2787 \nQ 1159 2491 1159 1978 \nL 1159 0 \nL 581 0 \nL 581 3500 \nL 1159 3500 \nL 1159 2956 \nQ 1366 3272 1645 3428 \nQ 1925 3584 2291 3584 \nQ 2894 3584 3203 3211 \nQ 3513 2838 3513 2113 \nz\n\" id=\"DejaVuSans-6e\" transform=\"scale(0.015625)\"/>\n     </defs>\n     <use xlink:href=\"#DejaVuSans-33\"/>\n     <use x=\"63.623047\" xlink:href=\"#DejaVuSans-20\"/>\n     <use x=\"95.410156\" xlink:href=\"#DejaVuSans-43\"/>\n     <use x=\"165.234375\" xlink:href=\"#DejaVuSans-6c\"/>\n     <use x=\"193.017578\" xlink:href=\"#DejaVuSans-75\"/>\n     <use x=\"256.396484\" xlink:href=\"#DejaVuSans-73\"/>\n     <use x=\"308.496094\" xlink:href=\"#DejaVuSans-74\"/>\n     <use x=\"347.705078\" xlink:href=\"#DejaVuSans-65\"/>\n     <use x=\"409.228516\" xlink:href=\"#DejaVuSans-72\"/>\n     <use x=\"450.341797\" xlink:href=\"#DejaVuSans-73\"/>\n     <use x=\"502.441406\" xlink:href=\"#DejaVuSans-20\"/>\n     <use x=\"534.228516\" xlink:href=\"#DejaVuSans-62\"/>\n     <use x=\"597.705078\" xlink:href=\"#DejaVuSans-79\"/>\n     <use x=\"656.884766\" xlink:href=\"#DejaVuSans-20\"/>\n     <use x=\"688.671875\" xlink:href=\"#DejaVuSans-32\"/>\n     <use x=\"752.294922\" xlink:href=\"#DejaVuSans-20\"/>\n     <use x=\"784.082031\" xlink:href=\"#DejaVuSans-50\"/>\n     <use x=\"844.384766\" xlink:href=\"#DejaVuSans-43\"/>\n     <use x=\"914.208984\" xlink:href=\"#DejaVuSans-41\"/>\n     <use x=\"982.617188\" xlink:href=\"#DejaVuSans-20\"/>\n     <use x=\"1014.404297\" xlink:href=\"#DejaVuSans-43\"/>\n     <use x=\"1084.228516\" xlink:href=\"#DejaVuSans-6f\"/>\n     <use x=\"1145.410156\" xlink:href=\"#DejaVuSans-6d\"/>\n     <use x=\"1242.822266\" xlink:href=\"#DejaVuSans-70\"/>\n     <use x=\"1306.298828\" xlink:href=\"#DejaVuSans-6f\"/>\n     <use x=\"1367.480469\" xlink:href=\"#DejaVuSans-6e\"/>\n     <use x=\"1430.859375\" xlink:href=\"#DejaVuSans-65\"/>\n     <use x=\"1492.382812\" xlink:href=\"#DejaVuSans-6e\"/>\n     <use x=\"1555.761719\" xlink:href=\"#DejaVuSans-74\"/>\n     <use x=\"1594.970703\" xlink:href=\"#DejaVuSans-73\"/>\n    </g>\n   </g>\n   <g id=\"legend_1\">\n    <g id=\"patch_7\">\n     <path d=\"M 564.798437 74.3525 \nL 603.160937 74.3525 \nQ 605.160937 74.3525 605.160937 72.3525 \nL 605.160937 29.318125 \nQ 605.160937 27.318125 603.160937 27.318125 \nL 564.798437 27.318125 \nQ 562.798437 27.318125 562.798437 29.318125 \nL 562.798437 72.3525 \nQ 562.798437 74.3525 564.798437 74.3525 \nz\n\" style=\"fill:#ffffff;opacity:0.8;stroke:#cccccc;stroke-linejoin:miter;\"/>\n    </g>\n    <g id=\"PathCollection_4\">\n     <g>\n      <use style=\"fill:#1f77b4;stroke:#1f77b4;\" x=\"576.798437\" xlink:href=\"#m2600966d70\" y=\"36.291562\"/>\n     </g>\n    </g>\n    <g id=\"text_18\">\n     <!-- 0 -->\n     <g transform=\"translate(594.798437 38.916562)scale(0.1 -0.1)\">\n      <use xlink:href=\"#DejaVuSans-30\"/>\n     </g>\n    </g>\n    <g id=\"PathCollection_5\">\n     <g>\n      <use style=\"fill:#ff7f0e;stroke:#ff7f0e;\" x=\"576.798437\" xlink:href=\"#m26599daf87\" y=\"50.969687\"/>\n     </g>\n    </g>\n    <g id=\"text_19\">\n     <!-- 1 -->\n     <g transform=\"translate(594.798437 53.594687)scale(0.1 -0.1)\">\n      <use xlink:href=\"#DejaVuSans-31\"/>\n     </g>\n    </g>\n    <g id=\"PathCollection_6\">\n     <g>\n      <use style=\"fill:#2ca02c;stroke:#2ca02c;\" x=\"576.798437\" xlink:href=\"#mb0fdcaf202\" y=\"65.647812\"/>\n     </g>\n    </g>\n    <g id=\"text_20\">\n     <!-- 2 -->\n     <g transform=\"translate(594.798437 68.272812)scale(0.1 -0.1)\">\n      <use xlink:href=\"#DejaVuSans-32\"/>\n     </g>\n    </g>\n   </g>\n  </g>\n </g>\n <defs>\n  <clipPath id=\"pe005b18971\">\n   <rect height=\"434.88\" width=\"558\" x=\"52.160938\" y=\"22.318125\"/>\n  </clipPath>\n </defs>\n</svg>\n",
      "image/png": "[encoded data removed]"
     },
     "metadata": {
      "needs_background": "light"
     }
    }
   ],
   "source": [
    "plt.figure(figsize=(10,8))\n",
    "\n",
    "plt.scatter(x= irisDF.loc[irisDF[irisDF['cluster']==0].index, 'pca_x'], y=irisDF.loc[irisDF[irisDF['cluster']==0].index, 'pca_y'], marker='o', label='0')\n",
    "plt.scatter(x= irisDF.loc[irisDF[irisDF['cluster']==1].index, 'pca_x'], y=irisDF.loc[irisDF[irisDF['cluster']==1].index, 'pca_y'], marker='s', label='1')\n",
    "plt.scatter(x= irisDF.loc[irisDF[irisDF['cluster']==2].index, 'pca_x'], y=irisDF.loc[irisDF[irisDF['cluster']==2].index, 'pca_y'], marker='^', label='2')    \n",
    "plt.xlabel('PCA 1')\n",
    "plt.ylabel('PCA 2')\n",
    "plt.title('3 Clusters by 2 PCA Components')\n",
    "plt.legend()\n",
    "plt.show()"
   ]
  },
  {
   "source": [
    "#### 1은 명확하게 군집화되었지만, 0과 2는 1만큼 명확하게 분리되어 있지는 않다. "
   ],
   "cell_type": "markdown",
   "metadata": {}
  },
  {
   "cell_type": "code",
   "execution_count": null,
   "metadata": {},
   "outputs": [],
   "source": []
  }
 ]
}